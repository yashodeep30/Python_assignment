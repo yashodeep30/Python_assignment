{
 "cells": [
  {
   "cell_type": "code",
   "execution_count": 2,
   "id": "8439d90b-10c5-4a83-a358-d70bbd2f1a26",
   "metadata": {},
   "outputs": [],
   "source": [
    "#Assignment :\n"
   ]
  },
  {
   "cell_type": "code",
   "execution_count": 5,
   "id": "293ef340-f6ef-4351-8e0e-117c72b919b0",
   "metadata": {},
   "outputs": [],
   "source": [
    "\n",
    "# 1. Python developed by 'Guido van Rossum'\n",
    "# 2. Type of Programming python support is object oriented, interpreted  language, structed and functional programming language\n",
    "# 3. Yes, python is case sensitive when dealing with identifiers\n",
    "# 4. Extension of python file is 'filename.py'\n",
    "# 5. Python is an Interpreted language\n",
    "# 6. In python we use Indentation\n",
    "# 7.  '#' is used to give single line comment\n",
    "#      we can also used ''' at start and at end ''' \n",
    "# 8.  sys.version is used to find the version of python which we are currently working on.\n",
    "# 9.  lambda \n",
    "# 10. pip is package manager for python called preffered installer\n",
    "# program\n",
    "# 11. built in function in python \n",
    "#       i.  print()\n",
    "#       ii. input()\n",
    "#      iii. list()\n",
    "#       iv. set()\n",
    "#        v. dict()\n",
    "#       vi. int()\n",
    "# 12. identifier can be of any length\n",
    "# 13. benifits of using python\n",
    "# Extensive support libraries(NumPy for numerical calculations, Pandas for data analytics, etc.) \n",
    "# Open source and large active community base \n",
    "# High-level language \n",
    "# Object-Oriented and Procedural  Programming language\n",
    "# Portable and Interactive\n",
    "# Interpreted Language\n",
    "\n",
    "# 14. Memory management in Python involves a private heap containing all Python objects and data structures is ensured by Python memory manager.\n",
    "\n",
    "# 15.  By default python default give checkbox to\n",
    "#        adding it to the ‘PATH’ while installing\n",
    "#        to set path manually \n",
    "\n",
    "# Right click on My Computer ->Properties ->Advanced System setting ->Environment Variable ->New\n",
    "\n",
    "# In Variable name write path and in Variable value copy path up to C://Python(i.e., path where Python is installed). Click Ok ->Ok.\n",
    "\n",
    "# Path will be set for executing Python programs.\n",
    "\n",
    "# 1. Right click on My Computer and click on properties.\n",
    "# 2. Click on Advanced System settings\n",
    "# 3. Click on Environment Variable tab.\n",
    "# 4. Click on new tab of user variables.\n",
    "# 5. Write path in variable name\n",
    "# 6. Copy the path of Python folder\n",
    "# 7. Paste path of Python in variable value.\n",
    "# 8. Click on Ok button:\n",
    "\n",
    "\n",
    "# 16. Yes indentation is required in python"
   ]
  },
  {
   "cell_type": "code",
   "execution_count": null,
   "id": "eb4c60c7-c861-4d66-9259-6962f266767b",
   "metadata": {},
   "outputs": [],
   "source": []
  },
  {
   "cell_type": "code",
   "execution_count": null,
   "id": "4f62ecbc-50b0-4a0f-b5e7-c4ceb7c53c02",
   "metadata": {},
   "outputs": [],
   "source": []
  }
 ],
 "metadata": {
  "kernelspec": {
   "display_name": "Python 3 (ipykernel)",
   "language": "python",
   "name": "python3"
  },
  "language_info": {
   "codemirror_mode": {
    "name": "ipython",
    "version": 3
   },
   "file_extension": ".py",
   "mimetype": "text/x-python",
   "name": "python",
   "nbconvert_exporter": "python",
   "pygments_lexer": "ipython3",
   "version": "3.10.8"
  }
 },
 "nbformat": 4,
 "nbformat_minor": 5
}
